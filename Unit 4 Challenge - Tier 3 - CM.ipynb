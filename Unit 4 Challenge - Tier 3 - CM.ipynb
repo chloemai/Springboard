{
 "cells": [
  {
   "cell_type": "markdown",
   "metadata": {
    "colab_type": "text",
    "id": "Tia3MP1SJpgj"
   },
   "source": [
    "# Springboard Data Science Career Track Unit 4 Challenge - Tier 3 Complete\n",
    "\n",
    "## Objectives\n",
    "Hey! Great job getting through those challenging DataCamp courses. You're learning a lot in a short span of time. \n",
    "\n",
    "In this notebook, you're going to apply the skills you've been learning, bridging the gap between the controlled environment of DataCamp and the *slightly* messier work that data scientists do with actual datasets!\n",
    "\n",
    "Here’s the mystery we’re going to solve: ***which boroughs of London have seen the greatest increase in housing prices, on average, over the last two decades?***\n",
    "\n",
    "\n",
    "A borough is just a fancy word for district. You may be familiar with the five boroughs of New York… well, there are 32 boroughs within Greater London [(here's some info for the curious)](https://en.wikipedia.org/wiki/London_boroughs). Some of them are more desirable areas to live in, and the data will reflect that with a greater rise in housing prices.\n",
    "\n",
    "***This is the Tier 3 notebook, which means it's not filled in at all: we'll just give you the skeleton of a project, the brief and the data. It's up to you to play around with it and see what you can find out! Good luck! If you struggle, feel free to look at easier tiers for help; but try to dip in and out of them, as the more independent work you do, the better it is for your learning!***\n",
    "\n",
    "This challenge will make use of only what you learned in the following DataCamp courses: \n",
    "- Prework courses (Introduction to Python for Data Science, Intermediate Python for Data Science)\n",
    "- Data Types for Data Science\n",
    "- Python Data Science Toolbox (Part One) \n",
    "- pandas Foundations\n",
    "- Manipulating DataFrames with pandas\n",
    "- Merging DataFrames with pandas\n",
    "\n",
    "Of the tools, techniques and concepts in the above DataCamp courses, this challenge should require the application of the following: \n",
    "- **pandas**\n",
    "    - **data ingestion and inspection** (pandas Foundations, Module One) \n",
    "    - **exploratory data analysis** (pandas Foundations, Module Two)\n",
    "    - **tidying and cleaning** (Manipulating DataFrames with pandas, Module Three) \n",
    "    - **transforming DataFrames** (Manipulating DataFrames with pandas, Module One)\n",
    "    - **subsetting DataFrames with lists** (Manipulating DataFrames with pandas, Module One) \n",
    "    - **filtering DataFrames** (Manipulating DataFrames with pandas, Module One) \n",
    "    - **grouping data** (Manipulating DataFrames with pandas, Module Four) \n",
    "    - **melting data** (Manipulating DataFrames with pandas, Module Three) \n",
    "    - **advanced indexing** (Manipulating DataFrames with pandas, Module Four) \n",
    "- **matplotlib** (Intermediate Python for Data Science, Module One)\n",
    "- **fundamental data types** (Data Types for Data Science, Module One) \n",
    "- **dictionaries** (Intermediate Python for Data Science, Module Two)\n",
    "- **handling dates and times** (Data Types for Data Science, Module Four)\n",
    "- **function definition** (Python Data Science Toolbox - Part One, Module One)\n",
    "- **default arguments, variable length, and scope** (Python Data Science Toolbox - Part One, Module Two) \n",
    "- **lambda functions and error handling** (Python Data Science Toolbox - Part One, Module Four) "
   ]
  },
  {
   "cell_type": "markdown",
   "metadata": {
    "colab_type": "text",
    "id": "Ipgd2nV8Jpgl"
   },
   "source": [
    "## The Data Science Pipeline\n",
    "\n",
    "This is Tier Three, so we'll get you started. But after that, it's all in your hands! When you feel done with your investigations, look back over what you've accomplished, and prepare a quick presentation of your findings for the next mentor meeting. \n",
    "\n",
    "Data Science is magical. In this case study, you'll get to apply some complex machine learning algorithms. But as  [David Spiegelhalter](https://www.youtube.com/watch?v=oUs1uvsz0Ok) reminds us, there is no substitute for simply **taking a really, really good look at the data.** Sometimes, this is all we need to answer our question.\n",
    "\n",
    "Data Science projects generally adhere to the four stages of Data Science Pipeline:\n",
    "1. Sourcing and loading \n",
    "2. Cleaning, transforming, and visualizing \n",
    "3. Modeling \n",
    "4. Evaluating and concluding \n"
   ]
  },
  {
   "cell_type": "markdown",
   "metadata": {
    "colab_type": "text",
    "id": "zswDqbefJpgm"
   },
   "source": [
    "### 1. Sourcing and Loading \n",
    "\n",
    "Any Data Science project kicks off by importing  ***pandas***. The documentation of this wonderful library can be found [here](https://pandas.pydata.org/). As you've seen, pandas is conveniently connected to the [Numpy](http://www.numpy.org/) and [Matplotlib](https://matplotlib.org/) libraries. \n",
    "\n",
    "***Hint:*** This part of the data science pipeline will test those skills you acquired in the pandas Foundations course, Module One. "
   ]
  },
  {
   "cell_type": "markdown",
   "metadata": {
    "colab_type": "text",
    "id": "aEau5nEvJpgm"
   },
   "source": [
    "#### 1.1. Importing Libraries"
   ]
  },
  {
   "cell_type": "code",
   "execution_count": 1,
   "metadata": {
    "colab": {},
    "colab_type": "code",
    "id": "7Bt_Q_oPJpgn"
   },
   "outputs": [
    {
     "name": "stderr",
     "output_type": "stream",
     "text": [
      "Matplotlib is building the font cache; this may take a moment.\n"
     ]
    }
   ],
   "source": [
    "# Let's import the pandas, numpy libraries as pd, and np respectively. \n",
    "import pandas as pd\n",
    "import numpy as np\n",
    "\n",
    "# Load the pyplot collection of functions from matplotlib, as plt \n",
    "import matplotlib.pyplot as plt"
   ]
  },
  {
   "cell_type": "markdown",
   "metadata": {
    "colab_type": "text",
    "id": "koUrawxsJpgq"
   },
   "source": [
    "#### 1.2.  Loading the data\n",
    "Your data comes from the [London Datastore](https://data.london.gov.uk/): a free, open-source data-sharing portal for London-oriented datasets. "
   ]
  },
  {
   "cell_type": "code",
   "execution_count": 82,
   "metadata": {
    "colab": {},
    "colab_type": "code",
    "id": "AiLiD4v3Jpgr"
   },
   "outputs": [],
   "source": [
    "# First, make a variable called url_LondonHousePrices, and assign it the following link, enclosed in quotation-marks as a string:\n",
    "# https://data.london.gov.uk/download/uk-house-price-index/70ac0766-8902-4eb5-aab5-01951aaed773/UK%20House%20price%20index.xls\n",
    "\n",
    "url_LondonHousePrices = \"https://data.london.gov.uk/download/uk-house-price-index/70ac0766-8902-4eb5-aab5-01951aaed773/UK%20House%20price%20index.xls\"\n",
    "\n",
    "# The dataset we're interested in contains the Average prices of the houses, and is actually on a particular sheet of the Excel file. \n",
    "# As a result, we need to specify the sheet name in the read_excel() method.\n",
    "# Put this data into a variable called properties.  \n",
    "properties = pd.read_excel(url_LondonHousePrices, sheet_name='Average price', index_col= None)"
   ]
  },
  {
   "cell_type": "markdown",
   "metadata": {
    "colab_type": "text",
    "id": "POukEJXgJpgu"
   },
   "source": [
    "### 2. Cleaning, transforming, and visualizing\n",
    "This second stage is arguably the most important part of any Data Science project. The first thing to do is take a proper look at the data. Cleaning forms the majority of this stage, and can be done both before or after Transformation.\n",
    "\n",
    "The end goal of data cleaning is to have tidy data. When data is tidy: \n",
    "\n",
    "1. Each variable has a column.\n",
    "2. Each observation forms a row.\n",
    "\n",
    "Keep the end goal in mind as you move through this process, every step will take you closer. \n",
    "\n",
    "\n",
    "\n",
    "***Hint:*** This part of the data science pipeline should test those skills you acquired in: \n",
    "- Intermediate Python for data science, all modules.\n",
    "- pandas Foundations, all modules. \n",
    "- Manipulating DataFrames with pandas, all modules.\n",
    "- Data Types for Data Science, Module Four.\n",
    "- Python Data Science Toolbox - Part One, all modules"
   ]
  },
  {
   "cell_type": "markdown",
   "metadata": {
    "colab_type": "text",
    "id": "Te0Q548tnzZa"
   },
   "source": [
    "**2.1. Exploring your data** \n",
    "\n",
    "Think about your pandas functions for checking out a dataframe. "
   ]
  },
  {
   "cell_type": "code",
   "execution_count": 138,
   "metadata": {
    "colab": {},
    "colab_type": "code",
    "id": "Rxirxw_qoAJa"
   },
   "outputs": [
    {
     "data": {
      "text/html": [
       "<div>\n",
       "<style scoped>\n",
       "    .dataframe tbody tr th:only-of-type {\n",
       "        vertical-align: middle;\n",
       "    }\n",
       "\n",
       "    .dataframe tbody tr th {\n",
       "        vertical-align: top;\n",
       "    }\n",
       "\n",
       "    .dataframe thead th {\n",
       "        text-align: right;\n",
       "    }\n",
       "</style>\n",
       "<table border=\"1\" class=\"dataframe\">\n",
       "  <thead>\n",
       "    <tr style=\"text-align: right;\">\n",
       "      <th></th>\n",
       "      <th>Unnamed: 0</th>\n",
       "      <th>City of London</th>\n",
       "      <th>Barking &amp; Dagenham</th>\n",
       "      <th>Barnet</th>\n",
       "      <th>Bexley</th>\n",
       "      <th>Brent</th>\n",
       "      <th>Bromley</th>\n",
       "      <th>Camden</th>\n",
       "      <th>Croydon</th>\n",
       "      <th>Ealing</th>\n",
       "      <th>...</th>\n",
       "      <th>NORTH WEST</th>\n",
       "      <th>YORKS &amp; THE HUMBER</th>\n",
       "      <th>EAST MIDLANDS</th>\n",
       "      <th>WEST MIDLANDS</th>\n",
       "      <th>EAST OF ENGLAND</th>\n",
       "      <th>LONDON</th>\n",
       "      <th>SOUTH EAST</th>\n",
       "      <th>SOUTH WEST</th>\n",
       "      <th>Unnamed: 47</th>\n",
       "      <th>England</th>\n",
       "    </tr>\n",
       "  </thead>\n",
       "  <tbody>\n",
       "    <tr>\n",
       "      <th>0</th>\n",
       "      <td>NaT</td>\n",
       "      <td>E09000001</td>\n",
       "      <td>E09000002</td>\n",
       "      <td>E09000003</td>\n",
       "      <td>E09000004</td>\n",
       "      <td>E09000005</td>\n",
       "      <td>E09000006</td>\n",
       "      <td>E09000007</td>\n",
       "      <td>E09000008</td>\n",
       "      <td>E09000009</td>\n",
       "      <td>...</td>\n",
       "      <td>E12000002</td>\n",
       "      <td>E12000003</td>\n",
       "      <td>E12000004</td>\n",
       "      <td>E12000005</td>\n",
       "      <td>E12000006</td>\n",
       "      <td>E12000007</td>\n",
       "      <td>E12000008</td>\n",
       "      <td>E12000009</td>\n",
       "      <td>NaN</td>\n",
       "      <td>E92000001</td>\n",
       "    </tr>\n",
       "    <tr>\n",
       "      <th>1</th>\n",
       "      <td>1995-01-01</td>\n",
       "      <td>91449</td>\n",
       "      <td>50460.2</td>\n",
       "      <td>93284.5</td>\n",
       "      <td>64958.1</td>\n",
       "      <td>71306.6</td>\n",
       "      <td>81671.5</td>\n",
       "      <td>120933</td>\n",
       "      <td>69158.2</td>\n",
       "      <td>79885.9</td>\n",
       "      <td>...</td>\n",
       "      <td>43958.5</td>\n",
       "      <td>44803.4</td>\n",
       "      <td>45544.5</td>\n",
       "      <td>48527.5</td>\n",
       "      <td>56701.6</td>\n",
       "      <td>74435.8</td>\n",
       "      <td>64018.9</td>\n",
       "      <td>54705.2</td>\n",
       "      <td>NaN</td>\n",
       "      <td>53202.8</td>\n",
       "    </tr>\n",
       "    <tr>\n",
       "      <th>2</th>\n",
       "      <td>1995-02-01</td>\n",
       "      <td>82202.8</td>\n",
       "      <td>51085.8</td>\n",
       "      <td>93190.2</td>\n",
       "      <td>64787.9</td>\n",
       "      <td>72022.3</td>\n",
       "      <td>81657.6</td>\n",
       "      <td>119509</td>\n",
       "      <td>68951.1</td>\n",
       "      <td>80897.1</td>\n",
       "      <td>...</td>\n",
       "      <td>43925.4</td>\n",
       "      <td>44528.8</td>\n",
       "      <td>46051.6</td>\n",
       "      <td>49341.3</td>\n",
       "      <td>56593.6</td>\n",
       "      <td>72777.9</td>\n",
       "      <td>63715</td>\n",
       "      <td>54356.1</td>\n",
       "      <td>NaN</td>\n",
       "      <td>53096.2</td>\n",
       "    </tr>\n",
       "    <tr>\n",
       "      <th>3</th>\n",
       "      <td>1995-03-01</td>\n",
       "      <td>79120.7</td>\n",
       "      <td>51269</td>\n",
       "      <td>92247.5</td>\n",
       "      <td>64367.5</td>\n",
       "      <td>72015.8</td>\n",
       "      <td>81449.3</td>\n",
       "      <td>120282</td>\n",
       "      <td>68712.4</td>\n",
       "      <td>81379.9</td>\n",
       "      <td>...</td>\n",
       "      <td>44434.9</td>\n",
       "      <td>45200.5</td>\n",
       "      <td>45383.8</td>\n",
       "      <td>49442.2</td>\n",
       "      <td>56171.2</td>\n",
       "      <td>73896.8</td>\n",
       "      <td>64113.6</td>\n",
       "      <td>53583.1</td>\n",
       "      <td>NaN</td>\n",
       "      <td>53201.3</td>\n",
       "    </tr>\n",
       "    <tr>\n",
       "      <th>4</th>\n",
       "      <td>1995-04-01</td>\n",
       "      <td>77101.2</td>\n",
       "      <td>53133.5</td>\n",
       "      <td>90762.9</td>\n",
       "      <td>64277.7</td>\n",
       "      <td>72965.6</td>\n",
       "      <td>81124.4</td>\n",
       "      <td>120098</td>\n",
       "      <td>68610</td>\n",
       "      <td>82188.9</td>\n",
       "      <td>...</td>\n",
       "      <td>44267.8</td>\n",
       "      <td>45614.3</td>\n",
       "      <td>46124.2</td>\n",
       "      <td>49455.9</td>\n",
       "      <td>56567.9</td>\n",
       "      <td>74455.3</td>\n",
       "      <td>64623.2</td>\n",
       "      <td>54786</td>\n",
       "      <td>NaN</td>\n",
       "      <td>53590.9</td>\n",
       "    </tr>\n",
       "  </tbody>\n",
       "</table>\n",
       "<p>5 rows × 49 columns</p>\n",
       "</div>"
      ],
      "text/plain": [
       "  Unnamed: 0 City of London Barking & Dagenham     Barnet     Bexley  \\\n",
       "0        NaT      E09000001          E09000002  E09000003  E09000004   \n",
       "1 1995-01-01          91449            50460.2    93284.5    64958.1   \n",
       "2 1995-02-01        82202.8            51085.8    93190.2    64787.9   \n",
       "3 1995-03-01        79120.7              51269    92247.5    64367.5   \n",
       "4 1995-04-01        77101.2            53133.5    90762.9    64277.7   \n",
       "\n",
       "       Brent    Bromley     Camden    Croydon     Ealing  ... NORTH WEST  \\\n",
       "0  E09000005  E09000006  E09000007  E09000008  E09000009  ...  E12000002   \n",
       "1    71306.6    81671.5     120933    69158.2    79885.9  ...    43958.5   \n",
       "2    72022.3    81657.6     119509    68951.1    80897.1  ...    43925.4   \n",
       "3    72015.8    81449.3     120282    68712.4    81379.9  ...    44434.9   \n",
       "4    72965.6    81124.4     120098      68610    82188.9  ...    44267.8   \n",
       "\n",
       "  YORKS & THE HUMBER EAST MIDLANDS WEST MIDLANDS EAST OF ENGLAND     LONDON  \\\n",
       "0          E12000003     E12000004     E12000005       E12000006  E12000007   \n",
       "1            44803.4       45544.5       48527.5         56701.6    74435.8   \n",
       "2            44528.8       46051.6       49341.3         56593.6    72777.9   \n",
       "3            45200.5       45383.8       49442.2         56171.2    73896.8   \n",
       "4            45614.3       46124.2       49455.9         56567.9    74455.3   \n",
       "\n",
       "  SOUTH EAST SOUTH WEST Unnamed: 47    England  \n",
       "0  E12000008  E12000009         NaN  E92000001  \n",
       "1    64018.9    54705.2         NaN    53202.8  \n",
       "2      63715    54356.1         NaN    53096.2  \n",
       "3    64113.6    53583.1         NaN    53201.3  \n",
       "4    64623.2      54786         NaN    53590.9  \n",
       "\n",
       "[5 rows x 49 columns]"
      ]
     },
     "execution_count": 138,
     "metadata": {},
     "output_type": "execute_result"
    }
   ],
   "source": [
    "properties.shape\n",
    "properties.head()"
   ]
  },
  {
   "cell_type": "markdown",
   "metadata": {
    "colab_type": "text",
    "id": "tE9Sqt9-oAta"
   },
   "source": [
    "**2.2. Cleaning the data**\n",
    "\n",
    "You might find you need to transpose your dataframe, check out what its row indexes are, and reset the index. You  also might find you need to assign the values of the first row to your column headings  . (Hint: recall the .columns feature of DataFrames, as well as the iloc[] method).\n",
    "\n",
    "Don't be afraid to use StackOverflow for help  with this."
   ]
  },
  {
   "cell_type": "code",
   "execution_count": 139,
   "metadata": {
    "colab": {},
    "colab_type": "code",
    "id": "cdAu1A3YoH_r"
   },
   "outputs": [
    {
     "name": "stdout",
     "output_type": "stream",
     "text": [
      "                          0                    1                    2    \\\n",
      "Unnamed: 0                NaT  1995-01-01 00:00:00  1995-02-01 00:00:00   \n",
      "City of London      E09000001                91449              82202.8   \n",
      "Barking & Dagenham  E09000002              50460.2              51085.8   \n",
      "Barnet              E09000003              93284.5              93190.2   \n",
      "Bexley              E09000004              64958.1              64787.9   \n",
      "\n",
      "                                    3                    4    \\\n",
      "Unnamed: 0          1995-03-01 00:00:00  1995-04-01 00:00:00   \n",
      "City of London                  79120.7              77101.2   \n",
      "Barking & Dagenham                51269              53133.5   \n",
      "Barnet                          92247.5              90762.9   \n",
      "Bexley                          64367.5              64277.7   \n",
      "\n",
      "                                    5                    6    \\\n",
      "Unnamed: 0          1995-05-01 00:00:00  1995-06-01 00:00:00   \n",
      "City of London                  84409.1              94900.5   \n",
      "Barking & Dagenham              53042.2              53700.3   \n",
      "Barnet                            90258              90107.2   \n",
      "Bexley                          63997.1              64252.3   \n",
      "\n",
      "                                    7                    8    \\\n",
      "Unnamed: 0          1995-07-01 00:00:00  1995-08-01 00:00:00   \n",
      "City of London                   110128               112329   \n",
      "Barking & Dagenham              52113.1              52232.2   \n",
      "Barnet                          91441.2              92361.3   \n",
      "Bexley                          63722.7              64432.6   \n",
      "\n",
      "                                    9    ...                  305  \\\n",
      "Unnamed: 0          1995-09-01 00:00:00  ...  2020-05-01 00:00:00   \n",
      "City of London                   104473  ...               918209   \n",
      "Barking & Dagenham              51471.6  ...               293816   \n",
      "Barnet                          93273.1  ...               526033   \n",
      "Bexley                          64509.5  ...               339353   \n",
      "\n",
      "                                    306                  307  \\\n",
      "Unnamed: 0          2020-06-01 00:00:00  2020-07-01 00:00:00   \n",
      "City of London                   882872               786627   \n",
      "Barking & Dagenham               300526               304556   \n",
      "Barnet                           518175               523280   \n",
      "Bexley                           340893               344091   \n",
      "\n",
      "                                    308                  309  \\\n",
      "Unnamed: 0          2020-08-01 00:00:00  2020-09-01 00:00:00   \n",
      "City of London                   827659               798499   \n",
      "Barking & Dagenham               304924               301702   \n",
      "Barnet                           529660               533619   \n",
      "Bexley                           346680               345061   \n",
      "\n",
      "                                    310                  311  \\\n",
      "Unnamed: 0          2020-10-01 00:00:00  2020-11-01 00:00:00   \n",
      "City of London                   836807               782057   \n",
      "Barking & Dagenham               304852               305056   \n",
      "Barnet                           530354               531932   \n",
      "Bexley                           345405               348681   \n",
      "\n",
      "                                    312                  313  \\\n",
      "Unnamed: 0          2020-12-01 00:00:00  2021-01-01 00:00:00   \n",
      "City of London                   803126               771641   \n",
      "Barking & Dagenham               310569               316477   \n",
      "Barnet                           532705               540601   \n",
      "Bexley                           354052               358906   \n",
      "\n",
      "                                    314  \n",
      "Unnamed: 0          2021-02-01 00:00:00  \n",
      "City of London                   675309  \n",
      "Barking & Dagenham               323954  \n",
      "Barnet                           531887  \n",
      "Bexley                           363412  \n",
      "\n",
      "[5 rows x 315 columns]\n",
      "RangeIndex(start=0, stop=49, step=1)\n",
      "                index          0                    1                    2  \\\n",
      "0          Unnamed: 0        NaT  1995-01-01 00:00:00  1995-02-01 00:00:00   \n",
      "1      City of London  E09000001                91449              82202.8   \n",
      "2  Barking & Dagenham  E09000002              50460.2              51085.8   \n",
      "3              Barnet  E09000003              93284.5              93190.2   \n",
      "4              Bexley  E09000004              64958.1              64787.9   \n",
      "\n",
      "                     3                    4                    5  \\\n",
      "0  1995-03-01 00:00:00  1995-04-01 00:00:00  1995-05-01 00:00:00   \n",
      "1              79120.7              77101.2              84409.1   \n",
      "2                51269              53133.5              53042.2   \n",
      "3              92247.5              90762.9                90258   \n",
      "4              64367.5              64277.7              63997.1   \n",
      "\n",
      "                     6                    7                    8  ...  \\\n",
      "0  1995-06-01 00:00:00  1995-07-01 00:00:00  1995-08-01 00:00:00  ...   \n",
      "1              94900.5               110128               112329  ...   \n",
      "2              53700.3              52113.1              52232.2  ...   \n",
      "3              90107.2              91441.2              92361.3  ...   \n",
      "4              64252.3              63722.7              64432.6  ...   \n",
      "\n",
      "                   305                  306                  307  \\\n",
      "0  2020-05-01 00:00:00  2020-06-01 00:00:00  2020-07-01 00:00:00   \n",
      "1               918209               882872               786627   \n",
      "2               293816               300526               304556   \n",
      "3               526033               518175               523280   \n",
      "4               339353               340893               344091   \n",
      "\n",
      "                   308                  309                  310  \\\n",
      "0  2020-08-01 00:00:00  2020-09-01 00:00:00  2020-10-01 00:00:00   \n",
      "1               827659               798499               836807   \n",
      "2               304924               301702               304852   \n",
      "3               529660               533619               530354   \n",
      "4               346680               345061               345405   \n",
      "\n",
      "                   311                  312                  313  \\\n",
      "0  2020-11-01 00:00:00  2020-12-01 00:00:00  2021-01-01 00:00:00   \n",
      "1               782057               803126               771641   \n",
      "2               305056               310569               316477   \n",
      "3               531932               532705               540601   \n",
      "4               348681               354052               358906   \n",
      "\n",
      "                   314  \n",
      "0  2021-02-01 00:00:00  \n",
      "1               675309  \n",
      "2               323954  \n",
      "3               531887  \n",
      "4               363412  \n",
      "\n",
      "[5 rows x 316 columns]\n",
      "0          Unnamed: 0        NaN  1995-01-01 00:00:00  1995-02-01 00:00:00  \\\n",
      "0          Unnamed: 0        NaT  1995-01-01 00:00:00  1995-02-01 00:00:00   \n",
      "1      City of London  E09000001                91449              82202.8   \n",
      "2  Barking & Dagenham  E09000002              50460.2              51085.8   \n",
      "3              Barnet  E09000003              93284.5              93190.2   \n",
      "4              Bexley  E09000004              64958.1              64787.9   \n",
      "\n",
      "0  1995-03-01 00:00:00  1995-04-01 00:00:00  1995-05-01 00:00:00  \\\n",
      "0  1995-03-01 00:00:00  1995-04-01 00:00:00  1995-05-01 00:00:00   \n",
      "1              79120.7              77101.2              84409.1   \n",
      "2                51269              53133.5              53042.2   \n",
      "3              92247.5              90762.9                90258   \n",
      "4              64367.5              64277.7              63997.1   \n",
      "\n",
      "0  1995-06-01 00:00:00  1995-07-01 00:00:00  1995-08-01 00:00:00  ...  \\\n",
      "0  1995-06-01 00:00:00  1995-07-01 00:00:00  1995-08-01 00:00:00  ...   \n",
      "1              94900.5               110128               112329  ...   \n",
      "2              53700.3              52113.1              52232.2  ...   \n",
      "3              90107.2              91441.2              92361.3  ...   \n",
      "4              64252.3              63722.7              64432.6  ...   \n",
      "\n",
      "0  2020-05-01 00:00:00  2020-06-01 00:00:00  2020-07-01 00:00:00  \\\n",
      "0  2020-05-01 00:00:00  2020-06-01 00:00:00  2020-07-01 00:00:00   \n",
      "1               918209               882872               786627   \n",
      "2               293816               300526               304556   \n",
      "3               526033               518175               523280   \n",
      "4               339353               340893               344091   \n",
      "\n",
      "0  2020-08-01 00:00:00  2020-09-01 00:00:00  2020-10-01 00:00:00  \\\n",
      "0  2020-08-01 00:00:00  2020-09-01 00:00:00  2020-10-01 00:00:00   \n",
      "1               827659               798499               836807   \n",
      "2               304924               301702               304852   \n",
      "3               529660               533619               530354   \n",
      "4               346680               345061               345405   \n",
      "\n",
      "0  2020-11-01 00:00:00  2020-12-01 00:00:00  2021-01-01 00:00:00  \\\n",
      "0  2020-11-01 00:00:00  2020-12-01 00:00:00  2021-01-01 00:00:00   \n",
      "1               782057               803126               771641   \n",
      "2               305056               310569               316477   \n",
      "3               531932               532705               540601   \n",
      "4               348681               354052               358906   \n",
      "\n",
      "0  2021-02-01 00:00:00  \n",
      "0  2021-02-01 00:00:00  \n",
      "1               675309  \n",
      "2               323954  \n",
      "3               531887  \n",
      "4               363412  \n",
      "\n",
      "[5 rows x 316 columns]\n",
      "0          Unnamed: 0        NaN 1995-01-01 00:00:00 1995-02-01 00:00:00  \\\n",
      "1      City of London  E09000001               91449             82202.8   \n",
      "2  Barking & Dagenham  E09000002             50460.2             51085.8   \n",
      "3              Barnet  E09000003             93284.5             93190.2   \n",
      "4              Bexley  E09000004             64958.1             64787.9   \n",
      "5               Brent  E09000005             71306.6             72022.3   \n",
      "\n",
      "0 1995-03-01 00:00:00 1995-04-01 00:00:00 1995-05-01 00:00:00  \\\n",
      "1             79120.7             77101.2             84409.1   \n",
      "2               51269             53133.5             53042.2   \n",
      "3             92247.5             90762.9               90258   \n",
      "4             64367.5             64277.7             63997.1   \n",
      "5             72015.8             72965.6               73704   \n",
      "\n",
      "0 1995-06-01 00:00:00 1995-07-01 00:00:00 1995-08-01 00:00:00  ...  \\\n",
      "1             94900.5              110128              112329  ...   \n",
      "2             53700.3             52113.1             52232.2  ...   \n",
      "3             90107.2             91441.2             92361.3  ...   \n",
      "4             64252.3             63722.7             64432.6  ...   \n",
      "5             74310.5               74127               73547  ...   \n",
      "\n",
      "0 2020-05-01 00:00:00 2020-06-01 00:00:00 2020-07-01 00:00:00  \\\n",
      "1              918209              882872              786627   \n",
      "2              293816              300526              304556   \n",
      "3              526033              518175              523280   \n",
      "4              339353              340893              344091   \n",
      "5              482808              484160              482303   \n",
      "\n",
      "0 2020-08-01 00:00:00 2020-09-01 00:00:00 2020-10-01 00:00:00  \\\n",
      "1              827659              798499              836807   \n",
      "2              304924              301702              304852   \n",
      "3              529660              533619              530354   \n",
      "4              346680              345061              345405   \n",
      "5              497729              519562              522239   \n",
      "\n",
      "0 2020-11-01 00:00:00 2020-12-01 00:00:00 2021-01-01 00:00:00  \\\n",
      "1              782057              803126              771641   \n",
      "2              305056              310569              316477   \n",
      "3              531932              532705              540601   \n",
      "4              348681              354052              358906   \n",
      "5              513892              497018              514179   \n",
      "\n",
      "0 2021-02-01 00:00:00  \n",
      "1              675309  \n",
      "2              323954  \n",
      "3              531887  \n",
      "4              363412  \n",
      "5              502264  \n",
      "\n",
      "[5 rows x 316 columns]\n"
     ]
    }
   ],
   "source": [
    "properties_T = properties.transpose()\n",
    "print(properties_T.head())\n",
    "properties_T = properties_T.reset_index()\n",
    "print(properties_T.index)\n",
    "print(properties_T.head())\n",
    "properties_T.columns = properties_T.iloc[0]\n",
    "print(properties_T.head())\n",
    "properties_T = properties_T.drop(0)\n",
    "print(properties_T.head())"
   ]
  },
  {
   "cell_type": "markdown",
   "metadata": {
    "colab_type": "text",
    "id": "o1uLbJAsoIjK"
   },
   "source": [
    "**2.3. Cleaning the data (part 2)**\n",
    "\n",
    "You might we have to **rename** a couple columns. How do you do this? The clue's pretty bold..."
   ]
  },
  {
   "cell_type": "code",
   "execution_count": 140,
   "metadata": {
    "colab": {},
    "colab_type": "code",
    "id": "GKkmn1AnoVZS"
   },
   "outputs": [
    {
     "name": "stdout",
     "output_type": "stream",
     "text": [
      "Index([       'Unnamed: 0',                 NaT, 1995-01-01 00:00:00,\n",
      "       1995-02-01 00:00:00, 1995-03-01 00:00:00, 1995-04-01 00:00:00,\n",
      "       1995-05-01 00:00:00, 1995-06-01 00:00:00, 1995-07-01 00:00:00,\n",
      "       1995-08-01 00:00:00,\n",
      "       ...\n",
      "       2020-05-01 00:00:00, 2020-06-01 00:00:00, 2020-07-01 00:00:00,\n",
      "       2020-08-01 00:00:00, 2020-09-01 00:00:00, 2020-10-01 00:00:00,\n",
      "       2020-11-01 00:00:00, 2020-12-01 00:00:00, 2021-01-01 00:00:00,\n",
      "       2021-02-01 00:00:00],\n",
      "      dtype='object', name=0, length=316)\n",
      "Index([  'London Boroughs',                'ID', 1995-01-01 00:00:00,\n",
      "       1995-02-01 00:00:00, 1995-03-01 00:00:00, 1995-04-01 00:00:00,\n",
      "       1995-05-01 00:00:00, 1995-06-01 00:00:00, 1995-07-01 00:00:00,\n",
      "       1995-08-01 00:00:00,\n",
      "       ...\n",
      "       2020-05-01 00:00:00, 2020-06-01 00:00:00, 2020-07-01 00:00:00,\n",
      "       2020-08-01 00:00:00, 2020-09-01 00:00:00, 2020-10-01 00:00:00,\n",
      "       2020-11-01 00:00:00, 2020-12-01 00:00:00, 2021-01-01 00:00:00,\n",
      "       2021-02-01 00:00:00],\n",
      "      dtype='object', name=0, length=316)\n"
     ]
    }
   ],
   "source": [
    "print(properties_T.columns) #before\n",
    "\n",
    "properties_T = properties_T.rename(columns = {'Unnamed: 0':'London Boroughs',pd.NaT:'ID'})\n",
    "\n",
    "print(properties_T.columns) #after"
   ]
  },
  {
   "cell_type": "markdown",
   "metadata": {
    "colab_type": "text",
    "id": "jy8BzXHmoWEw"
   },
   "source": [
    "**2.4.Transforming the data**\n",
    "\n",
    "Remember what Wes McKinney said about tidy data? \n",
    "\n",
    "You might need to **melt** your DataFrame here. "
   ]
  },
  {
   "cell_type": "code",
   "execution_count": 141,
   "metadata": {
    "colab": {},
    "colab_type": "code",
    "id": "S2wM0qLuo2Zt"
   },
   "outputs": [
    {
     "name": "stdout",
     "output_type": "stream",
     "text": [
      "      London Boroughs         ID          0    value\n",
      "0      City of London  E09000001 1995-01-01    91449\n",
      "1  Barking & Dagenham  E09000002 1995-01-01  50460.2\n",
      "2              Barnet  E09000003 1995-01-01  93284.5\n",
      "3              Bexley  E09000004 1995-01-01  64958.1\n",
      "4               Brent  E09000005 1995-01-01  71306.6\n",
      "      London Boroughs         ID       Date Average Price\n",
      "0      City of London  E09000001 1995-01-01         91449\n",
      "1  Barking & Dagenham  E09000002 1995-01-01       50460.2\n",
      "2              Barnet  E09000003 1995-01-01       93284.5\n",
      "3              Bexley  E09000004 1995-01-01       64958.1\n",
      "4               Brent  E09000005 1995-01-01       71306.6\n"
     ]
    }
   ],
   "source": [
    "properties_melt = pd.melt(properties_T, id_vars = ['London Boroughs','ID'])\n",
    "print(properties_melt.head())\n",
    "properties_melt = properties_melt.rename(columns = {0:'Date','value':'Average Price'})\n",
    "print(properties_melt.head())"
   ]
  },
  {
   "cell_type": "markdown",
   "metadata": {
    "colab_type": "text",
    "id": "7kIsgAo7o3mf"
   },
   "source": [
    "Remember to make sure your column data types are all correct. Average prices, for example, should be floating point numbers... "
   ]
  },
  {
   "cell_type": "code",
   "execution_count": 142,
   "metadata": {
    "colab": {},
    "colab_type": "code",
    "id": "ZcR4IHbcpOaq"
   },
   "outputs": [
    {
     "data": {
      "text/plain": [
       "London Boroughs            object\n",
       "ID                         object\n",
       "Date               datetime64[ns]\n",
       "Average Price             float64\n",
       "dtype: object"
      ]
     },
     "execution_count": 142,
     "metadata": {},
     "output_type": "execute_result"
    }
   ],
   "source": [
    "properties_melt['Average Price'] = pd.to_numeric(properties_melt['Average Price'])\n",
    "properties_melt.dtypes"
   ]
  },
  {
   "cell_type": "markdown",
   "metadata": {
    "colab_type": "text",
    "id": "knLUXHLypOtw"
   },
   "source": [
    "**2.5. Cleaning the data (part 3)**\n",
    "\n",
    "Do we have an equal number of observations in the ID, Average Price, Month, and London Borough columns? Remember that there are only 32 London Boroughs. How many entries do you have in that column? \n",
    "\n",
    "Check out the contents of the London Borough column, and if you find null values, get rid of them however you see fit. "
   ]
  },
  {
   "cell_type": "code",
   "execution_count": 155,
   "metadata": {
    "colab": {},
    "colab_type": "code",
    "id": "BnvTW5a3p0fC"
   },
   "outputs": [
    {
     "data": {
      "text/plain": [
       "array(['City of London', 'Barking & Dagenham', 'Barnet', 'Bexley',\n",
       "       'Brent', 'Bromley', 'Camden', 'Croydon', 'Ealing', 'Enfield',\n",
       "       'Greenwich', 'Hackney', 'Hammersmith & Fulham', 'Haringey',\n",
       "       'Harrow', 'Havering', 'Hillingdon', 'Hounslow', 'Islington',\n",
       "       'Kensington & Chelsea', 'Kingston upon Thames', 'Lambeth',\n",
       "       'Lewisham', 'Merton', 'Newham', 'Redbridge',\n",
       "       'Richmond upon Thames', 'Southwark', 'Sutton', 'Tower Hamlets',\n",
       "       'Waltham Forest', 'Wandsworth', 'Westminster'], dtype=object)"
      ]
     },
     "execution_count": 155,
     "metadata": {},
     "output_type": "execute_result"
    }
   ],
   "source": [
    "properties_melt.count()\n",
    "properties_melt.nunique(axis = 0)\n",
    "properties_melt['London Boroughs'].unique()\n",
    "nonBoroughs = ['Unnamed: 34',\n",
    "       'Inner London', 'Outer London', 'Unnamed: 37', 'NORTH EAST',\n",
    "       'NORTH WEST', 'YORKS & THE HUMBER', 'EAST MIDLANDS',\n",
    "       'WEST MIDLANDS', 'EAST OF ENGLAND', 'LONDON', 'SOUTH EAST',\n",
    "       'SOUTH WEST', 'Unnamed: 47', 'England']\n",
    "# found that Unamed has NAN Average Prices, but the other labels have float Average Prices\n",
    "properties_melt[properties_melt['London Boroughs'] == 'Unnamed: 37'].head()\n",
    "clean_properties = properties_melt.dropna()\n",
    "clean_properties.count()\n",
    "clean_properties.nunique(axis = 0)\n",
    "LB = clean_properties[~clean_properties['London Boroughs'].isin(nonBoroughs)]\n",
    "LB.count()\n",
    "LB.nunique(axis=0)\n",
    "LB['London Boroughs'].unique() #Why do I have 33 boroughs when I should have 32?"
   ]
  },
  {
   "cell_type": "markdown",
   "metadata": {
    "colab_type": "text",
    "id": "PGEx6mJsp6dG"
   },
   "source": [
    "**2.6. Visualizing the data**\n",
    "\n",
    "To visualize the data, why not subset on a particular London Borough? Maybe do a line plot of Month against Average Price?"
   ]
  },
  {
   "cell_type": "code",
   "execution_count": 158,
   "metadata": {
    "colab": {},
    "colab_type": "code",
    "id": "nAg5pT9cqHAR"
   },
   "outputs": [
    {
     "data": {
      "image/png": "[encoded data removed]",
      "text/plain": [
       "<Figure size 432x288 with 1 Axes>"
      ]
     },
     "metadata": {
      "needs_background": "light"
     },
     "output_type": "display_data"
    }
   ],
   "source": [
    "Greenwich = LB[LB['London Boroughs']=='Greenwich']\n",
    "Greenwich.plot(x='Date',y='Average Price')\n",
    "plt.title('Greenwich Average Housing Prices')\n",
    "plt.xlabel('Date')\n",
    "plt.ylabel('Average Price')\n",
    "plt.show()"
   ]
  },
  {
   "cell_type": "markdown",
   "metadata": {
    "colab_type": "text",
    "id": "aWTPqSJeqHnC"
   },
   "source": [
    "To limit the number of data points you have, you might want to extract the year from every month value your *Month* column. \n",
    "\n",
    "To this end, you *could* apply a ***lambda function***. Your logic could work as follows:\n",
    "1. look through the `Month` column\n",
    "2. extract the year from each individual value in that column \n",
    "3. store that corresponding year as separate column. \n",
    "\n",
    "Whether you go ahead with this is up to you. Just so long as you answer our initial brief: which boroughs of London have seen the greatest house price increase, on average, over the past two decades? "
   ]
  },
  {
   "cell_type": "code",
   "execution_count": 189,
   "metadata": {
    "colab": {},
    "colab_type": "code",
    "id": "e0DF92cyqnu8"
   },
   "outputs": [
    {
     "name": "stderr",
     "output_type": "stream",
     "text": [
      "<ipython-input-189-7f6acf25215b>:1: SettingWithCopyWarning: \n",
      "A value is trying to be set on a copy of a slice from a DataFrame.\n",
      "Try using .loc[row_indexer,col_indexer] = value instead\n",
      "\n",
      "See the caveats in the documentation: https://pandas.pydata.org/pandas-docs/stable/user_guide/indexing.html#returning-a-view-versus-a-copy\n",
      "  LB['Year'] = LB.Date.apply(lambda y: y.year)\n",
      "<ipython-input-189-7f6acf25215b>:2: SettingWithCopyWarning: \n",
      "A value is trying to be set on a copy of a slice from a DataFrame.\n",
      "Try using .loc[row_indexer,col_indexer] = value instead\n",
      "\n",
      "See the caveats in the documentation: https://pandas.pydata.org/pandas-docs/stable/user_guide/indexing.html#returning-a-view-versus-a-copy\n",
      "  LB['Month'] = LB.Date.apply(lambda m: m.month)\n"
     ]
    },
    {
     "data": {
      "text/html": [
       "<div>\n",
       "<style scoped>\n",
       "    .dataframe tbody tr th:only-of-type {\n",
       "        vertical-align: middle;\n",
       "    }\n",
       "\n",
       "    .dataframe tbody tr th {\n",
       "        vertical-align: top;\n",
       "    }\n",
       "\n",
       "    .dataframe thead th {\n",
       "        text-align: right;\n",
       "    }\n",
       "</style>\n",
       "<table border=\"1\" class=\"dataframe\">\n",
       "  <thead>\n",
       "    <tr style=\"text-align: right;\">\n",
       "      <th></th>\n",
       "      <th>London Boroughs</th>\n",
       "      <th>Year</th>\n",
       "      <th>Average Price</th>\n",
       "      <th>year</th>\n",
       "      <th>Month</th>\n",
       "    </tr>\n",
       "  </thead>\n",
       "  <tbody>\n",
       "    <tr>\n",
       "      <th>0</th>\n",
       "      <td>Barking &amp; Dagenham</td>\n",
       "      <td>1995</td>\n",
       "      <td>51817.969390</td>\n",
       "      <td>1995.0</td>\n",
       "      <td>6.5</td>\n",
       "    </tr>\n",
       "    <tr>\n",
       "      <th>1</th>\n",
       "      <td>Barking &amp; Dagenham</td>\n",
       "      <td>1996</td>\n",
       "      <td>51718.192690</td>\n",
       "      <td>1996.0</td>\n",
       "      <td>6.5</td>\n",
       "    </tr>\n",
       "    <tr>\n",
       "      <th>2</th>\n",
       "      <td>Barking &amp; Dagenham</td>\n",
       "      <td>1997</td>\n",
       "      <td>55974.262309</td>\n",
       "      <td>1997.0</td>\n",
       "      <td>6.5</td>\n",
       "    </tr>\n",
       "    <tr>\n",
       "      <th>3</th>\n",
       "      <td>Barking &amp; Dagenham</td>\n",
       "      <td>1998</td>\n",
       "      <td>60285.821083</td>\n",
       "      <td>1998.0</td>\n",
       "      <td>6.5</td>\n",
       "    </tr>\n",
       "    <tr>\n",
       "      <th>4</th>\n",
       "      <td>Barking &amp; Dagenham</td>\n",
       "      <td>1999</td>\n",
       "      <td>65320.934441</td>\n",
       "      <td>1999.0</td>\n",
       "      <td>6.5</td>\n",
       "    </tr>\n",
       "  </tbody>\n",
       "</table>\n",
       "</div>"
      ],
      "text/plain": [
       "      London Boroughs  Year  Average Price    year  Month\n",
       "0  Barking & Dagenham  1995   51817.969390  1995.0    6.5\n",
       "1  Barking & Dagenham  1996   51718.192690  1996.0    6.5\n",
       "2  Barking & Dagenham  1997   55974.262309  1997.0    6.5\n",
       "3  Barking & Dagenham  1998   60285.821083  1998.0    6.5\n",
       "4  Barking & Dagenham  1999   65320.934441  1999.0    6.5"
      ]
     },
     "execution_count": 189,
     "metadata": {},
     "output_type": "execute_result"
    }
   ],
   "source": [
    "LB['Year'] = LB.Date.apply(lambda y: y.year)\n",
    "LB['Month'] = LB.Date.apply(lambda m: m.month)\n",
    "LB.tail()\n",
    "\n",
    "LB_mean = LB.groupby(by = ['London Boroughs','Year']).mean()\n",
    "LB_mean.sample()\n",
    "LB_mean = LB_mean.reset_index()\n",
    "LB_mean.head()"
   ]
  },
  {
   "cell_type": "markdown",
   "metadata": {
    "colab_type": "text",
    "id": "2knuTxAEqoJ4"
   },
   "source": [
    "**3. Modeling**\n",
    "\n",
    "Consider creating a function that will calculate a ratio of house prices, comparing the price of a house in 2018 to the price in 1998.\n",
    "\n",
    "Consider calling this function create_price_ratio.\n",
    "\n",
    "You'd want this function to:\n",
    "1. Take a filter of dfg, specifically where this filter constrains the London_Borough, as an argument. For example, one admissible argument should be: dfg[dfg['London_Borough']=='Camden'].\n",
    "2. Get the Average Price for that Borough, for the years 1998 and 2018.\n",
    "4. Calculate the ratio of the Average Price for 1998 divided by the Average Price for 2018.\n",
    "5. Return that ratio.\n",
    "\n",
    "Once you've written this function, you ultimately want to use it to iterate through all the unique London_Boroughs and work out the ratio capturing the difference of house prices between 1998 and 2018.\n",
    "\n",
    "Bear in mind: you don't have to write a function like this if you don't want to. If you can solve the brief otherwise, then great! \n",
    "\n",
    "***Hint***: This section should test the skills you acquired in:\n",
    "- Python Data Science Toolbox - Part One, all modules"
   ]
  },
  {
   "cell_type": "code",
   "execution_count": 199,
   "metadata": {
    "colab": {},
    "colab_type": "code",
    "id": "cKTyr437UgDa"
   },
   "outputs": [
    {
     "name": "stdout",
     "output_type": "stream",
     "text": [
      "{'Barking & Dagenham': [4.89661861291754], 'Barnet': [4.358195917538044], 'Bexley': [4.248977046127877], 'Brent': [4.8945544971392865], 'Bromley': [4.0947846853338765], 'Camden': [4.935353408884261], 'City of London': [5.301620377587609], 'Croydon': [4.201100280024767], 'Ealing': [4.311450902121834], 'Enfield': [4.26347158349581], 'Greenwich': [4.763036347329193], 'Hackney': [6.198285561008662], 'Hammersmith & Fulham': [4.137798101936229], 'Haringey': [5.134624964136042], 'Harrow': [4.0591964329643195], 'Havering': [4.325230371335308], 'Hillingdon': [4.2002730803844575], 'Hounslow': [3.976409106143329], 'Islington': [4.844048012802298], 'Kensington & Chelsea': [5.082465066092464], 'Kingston upon Thames': [4.270549521484271], 'Lambeth': [4.957751163514063], 'Lewisham': [5.449221041059685], 'Merton': [4.741273313294604], 'Newham': [5.305390437201879], 'Redbridge': [4.471182006097364], 'Richmond upon Thames': [4.005161895721457], 'Southwark': [5.516485302379376], 'Sutton': [4.118522608573157], 'Tower Hamlets': [4.62670104006116], 'Waltham Forest': [5.83475580932281], 'Wandsworth': [4.757709347739269], 'Westminster': [5.353565392605413]}\n",
      "                 Borough     ratio\n",
      "11               Hackney  6.198286\n",
      "30        Waltham Forest  5.834756\n",
      "27             Southwark  5.516485\n",
      "22              Lewisham  5.449221\n",
      "32           Westminster  5.353565\n",
      "24                Newham  5.305390\n",
      "6         City of London  5.301620\n",
      "13              Haringey  5.134625\n",
      "19  Kensington & Chelsea  5.082465\n",
      "21               Lambeth  4.957751\n",
      "5                 Camden  4.935353\n",
      "0     Barking & Dagenham  4.896619\n",
      "3                  Brent  4.894554\n",
      "18             Islington  4.844048\n",
      "10             Greenwich  4.763036\n"
     ]
    },
    {
     "data": {
      "image/png": "[encoded data removed]",
      "text/plain": [
       "<Figure size 432x288 with 1 Axes>"
      ]
     },
     "metadata": {
      "needs_background": "light"
     },
     "output_type": "display_data"
    }
   ],
   "source": [
    "def create_price_ratio(bdata):\n",
    "    AvgP_1998 = float(bdata['Average Price'][bdata['Year'] == 1998])\n",
    "    AvgP_2018 = float(bdata['Average Price'][bdata['Year'] == 2018])\n",
    "    ratio = [AvgP_2018/AvgP_1998] #I think there's a typo in the instructions because we can see positive growth by dividing end Year by start Year\n",
    "    return ratio\n",
    "\n",
    "create_price_ratio(LB_mean[LB_mean['London Boroughs'] == 'Barking & Dagenham'])\n",
    "\n",
    "final = {}\n",
    "\n",
    "for b in LB_mean['London Boroughs'].unique():\n",
    "    borough = LB_mean[LB_mean['London Boroughs']==b]\n",
    "    final[b] = create_price_ratio(borough)\n",
    "\n",
    "print(final)\n",
    "\n",
    "LB_ratios = pd.DataFrame(final)\n",
    "LB_ratios.head()\n",
    "\n",
    "LB_ratio_T = LB_ratios.T\n",
    "LB_ratio_T = LB_ratio_T.reset_index()\n",
    "LB_ratio_T.head()\n",
    "\n",
    "LB_ratio_T.rename(columns = {'index':'Borough',0:'ratio'}, inplace = True)\n",
    "LB_ratio_T.head()\n",
    "\n",
    "top15 = LB_ratio_T.sort_values(by = 'ratio',ascending=False).head(15)\n",
    "print(top15)\n",
    "\n",
    "top15.plot(kind = 'bar',x='Borough',y='ratio')\n",
    "plt.show()\n"
   ]
  },
  {
   "cell_type": "markdown",
   "metadata": {
    "colab_type": "text",
    "id": "NzYUI7FxJpgv"
   },
   "source": [
    "### 4. Conclusion\n",
    "What can you conclude? Type out your conclusion below. \n",
    "\n",
    "Look back at your notebook. Think about how you might summarize what you have done, and prepare a quick presentation on it to your mentor at your next meeting. \n",
    "\n",
    "We hope you enjoyed this practical project. It should have consolidated your data hygiene and pandas skills by looking at a real-world problem involving just the kind of dataset you might encounter as a budding data scientist. Congratulations, and looking forward to seeing you at the next step in the course! "
   ]
  },
  {
   "cell_type": "markdown",
   "metadata": {},
   "source": [
    "Hackney had the greatest average increase in housing prices from 1998 to 2018."
   ]
  },
  {
   "cell_type": "code",
   "execution_count": 210,
   "metadata": {},
   "outputs": [
    {
     "name": "stdout",
     "output_type": "stream",
     "text": [
      "London Boroughs\n",
      "Barking & Dagenham      3.202157e+05\n",
      "Barnet                  5.382810e+05\n",
      "Bexley                  3.611586e+05\n",
      "Brent                   5.082212e+05\n",
      "Bromley                 4.639583e+05\n",
      "Camden                  8.430669e+05\n",
      "City of London          8.497901e+05\n",
      "Croydon                 3.909466e+05\n",
      "Ealing                  5.133796e+05\n",
      "Enfield                 4.112030e+05\n",
      "Greenwich               4.150682e+05\n",
      "Hackney                 5.941335e+05\n",
      "Hammersmith & Fulham    7.608336e+05\n",
      "Haringey                5.807123e+05\n",
      "Harrow                  4.733970e+05\n",
      "Havering                3.816861e+05\n",
      "Hillingdon              4.313411e+05\n",
      "Hounslow                4.303364e+05\n",
      "Islington               6.950713e+05\n",
      "Kensington & Chelsea    1.363880e+06\n",
      "Kingston upon Thames    5.055139e+05\n",
      "Lambeth                 5.389616e+05\n",
      "Lewisham                4.511907e+05\n",
      "Merton                  5.655534e+05\n",
      "Newham                  3.969107e+05\n",
      "Redbridge               4.544088e+05\n",
      "Richmond upon Thames    6.978479e+05\n",
      "Southwark               5.411386e+05\n",
      "Sutton                  4.069441e+05\n",
      "Tower Hamlets           4.644397e+05\n",
      "Waltham Forest          4.748674e+05\n",
      "Wandsworth              6.179215e+05\n",
      "Westminster             1.064772e+06\n",
      "dtype: float64\n"
     ]
    },
    {
     "data": {
      "image/png": "[encoded data removed]",
      "text/plain": [
       "<Figure size 432x288 with 1 Axes>"
      ]
     },
     "metadata": {
      "needs_background": "light"
     },
     "output_type": "display_data"
    }
   ],
   "source": [
    "LB_mean.head()\n",
    "LB_mean_pivot = LB_mean.pivot(index='Year',values='Average Price',columns='London Boroughs')\n",
    "LB_mean_pivot.plot()\n",
    "most_expensive_price = LB_mean_pivot.max()\n",
    "print(most_expensive_price)"
   ]
  },
  {
   "cell_type": "code",
   "execution_count": 218,
   "metadata": {},
   "outputs": [
    {
     "data": {
      "text/plain": [
       "'Kensington & Chelsea'"
      ]
     },
     "execution_count": 218,
     "metadata": {},
     "output_type": "execute_result"
    }
   ],
   "source": [
    "LB_mean_pivot.idxmax(axis=1)[2021]"
   ]
  },
  {
   "cell_type": "code",
   "execution_count": null,
   "metadata": {},
   "outputs": [],
   "source": []
  }
 ],
 "metadata": {
  "colab": {
   "collapsed_sections": [],
   "name": "Springboard Data Science Career Track Unit 4 Challenge - Tier 3 Complete .ipynb",
   "provenance": []
  },
  "kernelspec": {
   "display_name": "Python 3",
   "language": "python",
   "name": "python3"
  },
  "language_info": {
   "codemirror_mode": {
    "name": "ipython",
    "version": 3
   },
   "file_extension": ".py",
   "mimetype": "text/x-python",
   "name": "python",
   "nbconvert_exporter": "python",
   "pygments_lexer": "ipython3",
   "version": "3.8.5"
  }
 },
 "nbformat": 4,
 "nbformat_minor": 1
}
